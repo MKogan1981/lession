{
 "cells": [
  {
   "cell_type": "code",
   "execution_count": 32,
   "metadata": {},
   "outputs": [
    {
     "name": "stdout",
     "output_type": "stream",
     "text": [
      "6\n"
     ]
    }
   ],
   "source": [
    "import os\n",
    "import collections\n",
    "import math\n",
    "import pandas as pd\n",
    "import numpy as np\n",
    "from IPython.display import display\n",
    "baseDir = os.getcwd()\n",
    "file = os.path.join(baseDir, 'input.txt')\n",
    "# print(file)\n",
    "if (os.path.isfile(file)):\n",
    "    with open(file, \"r\") as dataFile:\n",
    "        listData = [ inputData.rstrip(\"\\n\").split(\" \") for inputData in dataFile.readlines() ]\n",
    "n = int(listData[0][0])\n",
    "print(n)\n",
    "\n",
    "from datetime import timedelta\n",
    "from datetime import datetime\n",
    "start_date = datetime.strptime('2020-04-11', '%Y-%m-%d')\n",
    "finish_date = datetime.strptime('2020/28/10_@_11/05/30', '%Y-%d-%m_@_%H:%M:%S')\n",
    "date = []\n",
    "info = []\n",
    "for i in range(1, len(listData)): \n",
    "    date.append(pd.to_datetime(datetime.strptime(listData[i][0], '%Y-%m-%d_%H:%M:%S')))\n",
    "    info.append([listData[i][1], listData[i][2], listData[i][3]])\n",
    "index = pd.DatetimeIndex(date)\n",
    "index.name = 'date'\n",
    "df_info = pd.DataFrame(info, index=index, columns=columns)\n",
    "idx = pd.IndexSlice"
   ]
  },
  {
   "cell_type": "code",
   "execution_count": 33,
   "metadata": {},
   "outputs": [],
   "source": [
    "baseDir = 'C:\\\\Users\\\\MKoga\\\\MyProgramms\\\\BusinessAnalysis\\\\Yandex_cup\\\\'\n",
    "file1 = os.path.join(baseDir, 'qid_url_rating.tsv')\n",
    "file2 = os.path.join(baseDir, 'hostid_url.tsv')\n",
    "file3 = os.path.join(baseDir, 'qid_query.tsv')\n",
    "requestToText = pd.read_table(file3, names=['request id', 'text'])\n",
    "hostToUrl = pd.read_table(file2, names=['host id', 'url'])\n",
    "allData = pd.read_table(file1, names=['request id', 'url', 'rel'])"
   ]
  },
  {
   "cell_type": "code",
   "execution_count": null,
   "metadata": {},
   "outputs": [],
   "source": [
    "    listNotUseShops = ['JU', 'PZ', 'AT', 'WA', 'CA', 'NB']\n",
    "    \n",
    "    sql = \"SELECT * FROM ОстаткиПродажиМагазинов Where\"\n",
    "    useShops = '(Магазин not in ('\n",
    "    useShops += ', '.join([\"'\" + shop + \"'\" for shop in listNotUseShops])\n",
    "    useShops += ') '\n",
    "    useGoods = 'AND (Товар in ('\n",
    "    useGoods += ', '.join([\"'\" + article + \"'\" for article in listGoods])\n",
    "    sql += useShops\n",
    "    sql += useGoods\n",
    "    sql += ') AND Дата BETWEEN ? AND ?)'\n",
    "    \n",
    "    for weekNumber in range(1, 105, 1):\n",
    "        print('week number - %d' %weekNumber)\n",
    "        startDate = str((finishDate - weekNumber * Week()).to_period('D'))\n",
    "        #print(startDate)\n",
    "        endDate = str((finishDate - (weekNumber - 1) * Week()).to_period('D'))\n",
    "        #print(endDate)\n",
    "\n",
    "        cur.execute(sql, (startDate, endDate))"
   ]
  },
  {
   "cell_type": "code",
   "execution_count": 1,
   "metadata": {},
   "outputs": [],
   "source": [
    "def nFactorial(n):\n",
    "    if n > 0:\n",
    "        return n * nFactorial(n-1)\n",
    "    else:\n",
    "        return 1"
   ]
  },
  {
   "cell_type": "code",
   "execution_count": 2,
   "metadata": {},
   "outputs": [],
   "source": [
    "def nAk(n, k):\n",
    "    if k > 0:\n",
    "        return n * nAk(n-1, k-1)\n",
    "    else:\n",
    "        return 1"
   ]
  },
  {
   "cell_type": "code",
   "execution_count": 3,
   "metadata": {},
   "outputs": [],
   "source": [
    "def nCk(n, k, nAk, nFactorial):\n",
    "    return nAk(n, k) / nFactorial(k)"
   ]
  },
  {
   "cell_type": "code",
   "execution_count": 22,
   "metadata": {},
   "outputs": [],
   "source": [
    "def NOD(a, b):\n",
    "    while True:\n",
    "        if a < b:\n",
    "            a, b = b, a   \n",
    "        a %= b\n",
    "        if a == 0:\n",
    "            return b    "
   ]
  },
  {
   "cell_type": "code",
   "execution_count": 5,
   "metadata": {},
   "outputs": [],
   "source": [
    "def skew_product_vectors(A, B): # A(x1, y1) B(x2, y2)\n",
    "    return  A[0] * B[1] - A[1] * B[0] "
   ]
  },
  {
   "cell_type": "code",
   "execution_count": 6,
   "metadata": {},
   "outputs": [],
   "source": [
    "def skew_product_ABxAC(A, B, C): # A(x1, y1) B(x2, y2) C(x3, y3)\n",
    "    AB = (B[0] - A[0], B[1] - A[1])\n",
    "    AC = (C[0] - A[0], C[1] - A[1])\n",
    "    return  AB[0] * AC[1] - AB[1] * AC[0] "
   ]
  },
  {
   "cell_type": "code",
   "execution_count": 8,
   "metadata": {},
   "outputs": [],
   "source": [
    "def scalar_product_vectors(A, B): # A(x1, y1) B(x2, y2)\n",
    "    return A[0] * B[0] + A[1] * B[1]"
   ]
  },
  {
   "cell_type": "code",
   "execution_count": null,
   "metadata": {},
   "outputs": [],
   "source": [
    "def scalar_product_ABdotAC(A, B, c): # A(x1, y1) B(x2, y2) C(x3, y3)\n",
    "    AB = (B[0] - A[0], B[1] - A[1])\n",
    "    AC = (C[0] - A[0], C[1] - A[1])\n",
    "    return AB[0] * AC[0] + AB[1] * AC[1]"
   ]
  },
  {
   "cell_type": "code",
   "execution_count": null,
   "metadata": {},
   "outputs": [],
   "source": [
    "def printList(dataList):\n",
    "    for x in dataList:\n",
    "        print(x, end = ' ')"
   ]
  },
  {
   "cell_type": "code",
   "execution_count": 62,
   "metadata": {},
   "outputs": [],
   "source": [
    "def splitLineBySectionMinMax(nPoints):\n",
    "    data = nPoints[:, 1] # point is (x, y) np.array\n",
    "    listIndexExtremePoints = []\n",
    "    type_extreme_point = 0\n",
    "    firstExtremePointFind = False\n",
    "    for i in range(2, len(data) - 1):\n",
    "        if not firstExtremePointFind or (firstExtremePointFind and need_type_extreme_point == 'min'):\n",
    "            if data[i-2] > data[i-1] and data[i-1] > data[i] and (data[i+1] > data[i] or data[i+1] == 0):\n",
    "                listIndexExtremePoints.append(i if firstExtremePointFind else 0)\n",
    "                if not firstExtremePointFind:\n",
    "                    need_type_extreme_point = 'max'\n",
    "                firstExtremePointFind = True\n",
    "        if not firstExtremePointFind or (firstExtremePointFind and need_type_extreme_point == 'max'):\n",
    "            if data[i-2] < data[i-1] and data[i-1] < data[i] and data[i+1] < data[i]:\n",
    "                listIndexExtremePoints.append(i if firstExtremePointFind else 0)\n",
    "                if not firstExtremePointFind:\n",
    "                    need_type_extreme_point = 'min'\n",
    "                firstExtremePointFind = True\n",
    "    if listIndexExtremePoints[-1] < len(data) - 4:\n",
    "        listIndexExtremePoints.append(len(data) - 1)\n",
    "    else:\n",
    "        listIndexExtremePoints[-1] = len(data) - 1\n",
    "    return listIndexExtremePoints\n",
    "\n",
    "def PWL_func_on_get_Section(nPoints, list_border_section): # piecewiseLinear(PWL)\n",
    "    nInterval = len(list_border_section) - 1\n",
    "    for i in range(nInterval):\n",
    "        fp = np.polyfit(nPoints[list_border_section[i] : list_border_section[i+1], 0], \n",
    "                        nPoints[list_border_section[i] : list_border_section[i+1], 1], 1) \n",
    "        print(fp)"
   ]
  },
  {
   "cell_type": "code",
   "execution_count": 63,
   "metadata": {},
   "outputs": [
    {
     "name": "stdout",
     "output_type": "stream",
     "text": [
      "[[0.         1.24244303]\n",
      " [0.1        1.49951558]\n",
      " [0.2        1.51438716]\n",
      " [0.3        0.51138177]\n",
      " [0.4        1.16447243]\n",
      " [0.5        3.38778727]\n",
      " [0.6        2.78550025]\n",
      " [0.7        1.18477403]\n",
      " [0.8        2.0111008 ]\n",
      " [0.9        2.51148074]\n",
      " [1.         3.72619467]\n",
      " [1.1        3.45706361]\n",
      " [1.2        3.4818512 ]\n",
      " [1.3        5.21612198]\n",
      " [1.4        4.17273209]\n",
      " [1.5        4.56029524]\n",
      " [1.6        4.87352792]\n",
      " [1.7        3.98693636]\n",
      " [1.8        4.73654234]\n",
      " [1.9        4.43499069]]\n",
      "[0, 7, 19]\n",
      "[2.87707154 0.86623389]\n",
      "[2.84748534 0.10052841]\n"
     ]
    }
   ],
   "source": [
    "import os\n",
    "import collections\n",
    "import math\n",
    "import pandas as pd\n",
    "import numpy as np\n",
    "import numpy.matlib\n",
    "\n",
    "x = np.arange(0, 2, 0.1)\n",
    "y = 2 * x\n",
    "y_add = 1 * np.random.randn(20) + 1\n",
    "y = y + y_add\n",
    "nPoint = np.array([(i, j) for i, j in zip(x, y)])\n",
    "print(nPoint)\n",
    "listExtreme = splitLineBySectionMinMax(nPoint)\n",
    "print(listExtreme)\n",
    "PWL_func_on_get_Section(nPoint, listExtreme)"
   ]
  },
  {
   "cell_type": "code",
   "execution_count": 66,
   "metadata": {},
   "outputs": [
    {
     "name": "stdout",
     "output_type": "stream",
     "text": [
      "[[ 0  1  2  3]\n",
      " [ 4  5  6  7]\n",
      " [ 8  9 10 11]\n",
      " [12 13 14 15]]\n",
      "[[ 4  5  6  7]\n",
      " [12 13 14 15]]\n"
     ]
    }
   ],
   "source": [
    "import numpy as np\n",
    "X = np.arange(16).reshape((4, 4))\n",
    "print(X)\n",
    "# выбор строк из 2-х мерного массива numpy\n",
    "row = np.array([1, 3])\n",
    "col = np.array([i for i in range(X.shape[1])])\n",
    "print(X[row[:,np.newaxis], col])"
   ]
  },
  {
   "cell_type": "code",
   "execution_count": null,
   "metadata": {},
   "outputs": [],
   "source": []
  }
 ],
 "metadata": {
  "kernelspec": {
   "display_name": "Python 3",
   "language": "python",
   "name": "python3"
  },
  "language_info": {
   "codemirror_mode": {
    "name": "ipython",
    "version": 3
   },
   "file_extension": ".py",
   "mimetype": "text/x-python",
   "name": "python",
   "nbconvert_exporter": "python",
   "pygments_lexer": "ipython3",
   "version": "3.8.3"
  }
 },
 "nbformat": 4,
 "nbformat_minor": 4
}
